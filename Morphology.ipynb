{
 "cells": [
  {
   "cell_type": "code",
   "execution_count": 1,
   "metadata": {
    "collapsed": false
   },
   "outputs": [
    {
     "data": {
      "text/plain": [
       "'\\nCreated on Fri Sep 22 12:26:33 2017\\n\\n@author: Manikanda Krishnan V (06-02-02-10-22-17-1-14787)\\n'"
      ]
     },
     "execution_count": 1,
     "metadata": {},
     "output_type": "execute_result"
    }
   ],
   "source": [
    "\"\"\"\n",
    "Created on Fri Sep 22 12:26:33 2017\n",
    "\n",
    "@author: Manikanda Krishnan V (06-02-02-10-22-17-1-14787)\n",
    "\"\"\"\n"
   ]
  },
  {
   "cell_type": "markdown",
   "metadata": {},
   "source": [
    "An image is padded with extra pixels in order to perform the convolution operation on the boundary pixels. Different types of padding lead to different effects. \n",
    "\n",
    "Constant Padding - The boundary are padded with pixels having a particular value. If this value is 0 then it becomes zero padding.\n",
    "In Morphological Processing - For erosion , a one padding is used and for dilation a zero padding is used.\n",
    "\n",
    "Periodic Padding - In this scheme the image is repeated(tiled). This corresponds to periodic convolution, images generally do not satisfy this assumption i.e the texture on the right border can be very different from the left border etc, hence this also leads to discontinuities.\n",
    "\n",
    "Symmetric Padding - In this scheme the pixels are reflected across the boundary. This leads to smoother transitions at the boundary preventing the creation of high frequency components\n"
   ]
  },
  {
   "cell_type": "code",
   "execution_count": 2,
   "metadata": {
    "collapsed": false
   },
   "outputs": [],
   "source": [
    "def padImage(im,filter_shape,padding_type=\"zero\",constant = 0) :\n",
    "    im_size = im.shape \n",
    "    padding_thickness = [x/2 for x in filter_shape]\n",
    "    lower_corner = (padding_thickness[0]+im_size[0],padding_thickness[1]+im_size[1])\n",
    "    im_col_flipped = im[:,-1::-1]\n",
    "    im_row_flipped = im[-1::-1,:]\n",
    "    im_both_flipped = im[-1::-1,-1::-1]\n",
    "    zeros = np.ones(im_size)*constant #constant padding on the borders, since default value of constant is 0, this becomes zero padding.\n",
    "    if padding_type == \"zero\" :\n",
    "            new_im = np.vstack([np.hstack([zeros,zeros,zeros]),\n",
    "                                np.hstack([zeros,im,zeros]),\n",
    "                                np.hstack([zeros,zeros,zeros])])\n",
    "\n",
    "    elif padding_type == \"symmetric\" :\n",
    "            new_im = np.vstack([np.hstack([im_both_flipped,im_row_flipped,im_both_flipped]),\n",
    "                                np.hstack([im_col_flipped,im,im_col_flipped]),\n",
    "                                np.hstack([im_both_flipped,im_row_flipped,im_both_flipped])])\n",
    "    elif padding_type == \"periodic\" :\n",
    "            new_im = np.vstack([np.hstack([im,im,im]),\n",
    "                                np.hstack([im,im,im]),\n",
    "                                np.hstack([im,im,im])])\n",
    "\n",
    "    return new_im[im_size[0]-padding_thickness[0]:2*im_size[0]+padding_thickness[0],im_size[1]-padding_thickness[1]:2*im_size[1]+padding_thickness[1]]"
   ]
  },
  {
   "cell_type": "markdown",
   "metadata": {},
   "source": [
    "This is a generalization of the 2D correlation operator. The operator argument is a function that takes a neighborhood of size mask_shape and returns a constant. If the operator does a 2D dot product we will get 2D correlation"
   ]
  },
  {
   "cell_type": "code",
   "execution_count": 3,
   "metadata": {
    "collapsed": true
   },
   "outputs": [],
   "source": [
    "def non_linear_neighborhood_processing(image,mask_shape,operator,padding_type=\"zero\",constant = 0) :\n",
    "    \"\"\"\n",
    "        operator is a function that takes a neighborhood of mask_shape as input and returns a value .\n",
    "    \"\"\"\n",
    "    im = padImage(image,mask_shape,padding_type,constant)\n",
    "    new_image = np.zeros(image.shape)\n",
    "    for x in range(0,image.shape[0]) :\n",
    "        for y in range(0,image.shape[1]) :\n",
    "            new_image[x,y] = operator(im[x:x+mask_shape[0],y:y+mask_shape[1]])\n",
    "    return new_image            "
   ]
  },
  {
   "cell_type": "markdown",
   "metadata": {},
   "source": [
    "If the entire mask fits inside the neighborhood then we should get back the mask after product and that pixel should take the value 1 else the pixel should be marked as 0"
   ]
  },
  {
   "cell_type": "code",
   "execution_count": 4,
   "metadata": {
    "collapsed": true
   },
   "outputs": [],
   "source": [
    "def erosion_operator(mask,neighborhood) :\n",
    "    output = mask*neighborhood\n",
    "    return np.alltrue(mask == output)*1.0"
   ]
  },
  {
   "cell_type": "markdown",
   "metadata": {},
   "source": [
    "If there is any overlap between the mask and the ROI , then we should mark it as 1. Here we check if the mask completely lies on the background , if yes then 0 else it implies it has some overlap and hence it will take the value 1"
   ]
  },
  {
   "cell_type": "code",
   "execution_count": 5,
   "metadata": {
    "collapsed": true
   },
   "outputs": [],
   "source": [
    "def dilation_operator(mask,neighborhood) :\n",
    "    output = mask*neighborhood\n",
    "    return 1.0 - np.alltrue(output == 0)"
   ]
  },
  {
   "cell_type": "markdown",
   "metadata": {},
   "source": [
    "performs  erosion by using the erosion operator defined previously"
   ]
  },
  {
   "cell_type": "code",
   "execution_count": 6,
   "metadata": {
    "collapsed": true
   },
   "outputs": [],
   "source": [
    "def erosion(image,mask) :\n",
    "    return non_linear_neighborhood_processing(image,mask.shape,lambda x : erosion_operator(mask,x),constant = 1)"
   ]
  },
  {
   "cell_type": "raw",
   "metadata": {},
   "source": [
    "performs dilation using the dilation operator defined previously"
   ]
  },
  {
   "cell_type": "code",
   "execution_count": 7,
   "metadata": {
    "collapsed": true
   },
   "outputs": [],
   "source": [
    "def dilation(image,mask) :\n",
    "    return non_linear_neighborhood_processing(image,mask.shape,lambda x : dilation_operator(mask,x),constant = 0)"
   ]
  },
  {
   "cell_type": "markdown",
   "metadata": {},
   "source": [
    "Open is erosion followed by dilation"
   ]
  },
  {
   "cell_type": "code",
   "execution_count": 8,
   "metadata": {
    "collapsed": true
   },
   "outputs": [],
   "source": [
    "def morph_open(image,mask) :\n",
    "    return dilation(erosion(image,mask),mask)"
   ]
  },
  {
   "cell_type": "markdown",
   "metadata": {},
   "source": [
    "close is dilation followed by erosion"
   ]
  },
  {
   "cell_type": "code",
   "execution_count": 9,
   "metadata": {
    "collapsed": true
   },
   "outputs": [],
   "source": [
    "def morph_close(image,mask) :\n",
    "    return erosion(dilation(image,mask),mask)"
   ]
  },
  {
   "cell_type": "markdown",
   "metadata": {},
   "source": [
    "Morphological Gradient is the difference between dilated image and eroded image. It highlights corners in the figure"
   ]
  },
  {
   "cell_type": "code",
   "execution_count": 10,
   "metadata": {
    "collapsed": true
   },
   "outputs": [],
   "source": [
    "def morph_gradient(image,mask) :\n",
    "    return dilation(image,mask) - erosion(image,mask)"
   ]
  },
  {
   "cell_type": "markdown",
   "metadata": {},
   "source": [
    "This creates a disk element of radius r with centre at centre of the matrix of dimension 2*r+1, all elements whose euclidean distance is less than r is marked as 1"
   ]
  },
  {
   "cell_type": "code",
   "execution_count": 11,
   "metadata": {
    "collapsed": true
   },
   "outputs": [],
   "source": [
    "def getDiskElement(radius) :\n",
    "    r = int(radius)\n",
    "    element = np.zeros((2*r+1,2*r+1))\n",
    "    c = r + 1\n",
    "    for i in range(1,2*r+2) :\n",
    "        for j in range(1,2*r+2) :\n",
    "            element[i-1,j-1] = 1.0*(((i-c)**2+(j-c)**2) <= r**2)\n",
    "    return element"
   ]
  },
  {
   "cell_type": "markdown",
   "metadata": {},
   "source": [
    "This creates a diamond element with centre at centre of the matrix of dimension 2*half_diagonal+1. Half_diagonal is the distance between the vertex and the point of intersection of the diagonals of the diamond. All elements whose manhattan distance is less than half_diagonal is marked as 1"
   ]
  },
  {
   "cell_type": "code",
   "execution_count": 12,
   "metadata": {
    "collapsed": true
   },
   "outputs": [],
   "source": [
    "def getDiamondElement(half_diagonal) :\n",
    "    r = int(half_diagonal)\n",
    "    element = np.zeros((2*r+1,2*r+1))\n",
    "    c = r + 1\n",
    "    for i in range(1,2*r+2) :\n",
    "        for j in range(1,2*r+2) :\n",
    "            element[i-1,j-1] = 1.0*((np.abs(i-c)+np.abs(j-c)) <= r)\n",
    "    return element"
   ]
  },
  {
   "cell_type": "code",
   "execution_count": 13,
   "metadata": {
    "collapsed": false,
    "scrolled": false
   },
   "outputs": [
    {
     "data": {
      "image/png": "[encoded data removed]",
      "text/plain": [
       "<matplotlib.figure.Figure at 0x43d73c8>"
      ]
     },
     "metadata": {},
     "output_type": "display_data"
    },
    {
     "name": "stdout",
     "output_type": "stream",
     "text": [
      "Diamond Element :\n",
      "[[ 0.  0.  0.  1.  0.  0.  0.]\n",
      " [ 0.  0.  1.  1.  1.  0.  0.]\n",
      " [ 0.  1.  1.  1.  1.  1.  0.]\n",
      " [ 1.  1.  1.  1.  1.  1.  1.]\n",
      " [ 0.  1.  1.  1.  1.  1.  0.]\n",
      " [ 0.  0.  1.  1.  1.  0.  0.]\n",
      " [ 0.  0.  0.  1.  0.  0.  0.]]\n",
      "Eroded\n"
     ]
    },
    {
     "data": {
      "image/png": "[encoded data removed]",
      "text/plain": [
       "<matplotlib.figure.Figure at 0x70bd0f0>"
      ]
     },
     "metadata": {},
     "output_type": "display_data"
    },
    {
     "name": "stdout",
     "output_type": "stream",
     "text": [
      "Dilated\n"
     ]
    },
    {
     "data": {
      "image/png": "[encoded data removed]",
      "text/plain": [
       "<matplotlib.figure.Figure at 0xa9968d0>"
      ]
     },
     "metadata": {},
     "output_type": "display_data"
    },
    {
     "name": "stdout",
     "output_type": "stream",
     "text": [
      "Opened\n"
     ]
    },
    {
     "data": {
      "image/png": "[encoded data removed]",
      "text/plain": [
       "<matplotlib.figure.Figure at 0xaa23f60>"
      ]
     },
     "metadata": {},
     "output_type": "display_data"
    },
    {
     "name": "stdout",
     "output_type": "stream",
     "text": [
      "Closed\n"
     ]
    },
    {
     "data": {
      "image/png": "[encoded data removed]",
      "text/plain": [
       "<matplotlib.figure.Figure at 0xb891d68>"
      ]
     },
     "metadata": {},
     "output_type": "display_data"
    },
    {
     "name": "stdout",
     "output_type": "stream",
     "text": [
      "Gradient\n"
     ]
    },
    {
     "data": {
      "image/png": "[encoded data removed]",
      "text/plain": [
       "<matplotlib.figure.Figure at 0xbc16588>"
      ]
     },
     "metadata": {},
     "output_type": "display_data"
    }
   ],
   "source": [
    "import numpy as np\n",
    "from skimage import io,color,transform,img_as_ubyte\n",
    "import matplotlib.pyplot as plt\n",
    "import math\n",
    "\n",
    "ocr_path = r\"C:\\Users\\Sephiroth\\Downloads\\iisc\\DIP codes\\ocr_custom.jpg\"\n",
    "im = (transform.resize(color.rgb2gray(io.imread(ocr_path)),(256,256)) < 0.5)*1.0\n",
    "io.imshow(im)\n",
    "plt.show()\n",
    "\n",
    "diamond_mask =  getDiamondElement(3)\n",
    "\n",
    "print \"Diamond Element :\"\n",
    "print diamond_mask\n",
    "\n",
    "print  \"Eroded\"\n",
    "eroded  = erosion(im,diamond_mask)\n",
    "io.imshow(eroded)\n",
    "plt.show()\n",
    "\n",
    "print  \"Dilated\"\n",
    "dilate  = dilation(im,diamond_mask)\n",
    "io.imshow(dilate)\n",
    "plt.show()\n",
    "\n",
    "print  \"Opened\"\n",
    "ope = morph_open(im,diamond_mask) \n",
    "io.imshow(ope)\n",
    "plt.show()\n",
    "\n",
    "print  \"Closed\"\n",
    "clos = morph_close(im,diamond_mask) \n",
    "io.imshow(clos)\n",
    "plt.show()\n",
    "\n",
    "print \"Gradient\"\n",
    "grad = morph_gradient(im,diamond_mask)\n",
    "io.imshow(grad)\n",
    "plt.show()\n"
   ]
  },
  {
   "cell_type": "code",
   "execution_count": 14,
   "metadata": {
    "collapsed": false
   },
   "outputs": [
    {
     "name": "stdout",
     "output_type": "stream",
     "text": [
      "\n",
      "\n",
      "DiskElement :\n",
      "[[ 0.  0.  0.  1.  0.  0.  0.]\n",
      " [ 0.  1.  1.  1.  1.  1.  0.]\n",
      " [ 0.  1.  1.  1.  1.  1.  0.]\n",
      " [ 1.  1.  1.  1.  1.  1.  1.]\n",
      " [ 0.  1.  1.  1.  1.  1.  0.]\n",
      " [ 0.  1.  1.  1.  1.  1.  0.]\n",
      " [ 0.  0.  0.  1.  0.  0.  0.]]\n",
      "Eroded\n"
     ]
    },
    {
     "data": {
      "image/png": "[encoded data removed]",
      "text/plain": [
       "<matplotlib.figure.Figure at 0x43db3c8>"
      ]
     },
     "metadata": {},
     "output_type": "display_data"
    },
    {
     "name": "stdout",
     "output_type": "stream",
     "text": [
      "Dilated\n"
     ]
    },
    {
     "data": {
      "image/png": "[encoded data removed]",
      "text/plain": [
       "<matplotlib.figure.Figure at 0xbc389b0>"
      ]
     },
     "metadata": {},
     "output_type": "display_data"
    },
    {
     "name": "stdout",
     "output_type": "stream",
     "text": [
      "Opened\n"
     ]
    },
    {
     "data": {
      "image/png": "[encoded data removed]",
      "text/plain": [
       "<matplotlib.figure.Figure at 0xb8915f8>"
      ]
     },
     "metadata": {},
     "output_type": "display_data"
    },
    {
     "name": "stdout",
     "output_type": "stream",
     "text": [
      "Closed\n"
     ]
    },
    {
     "data": {
      "image/png": "[encoded data removed]",
      "text/plain": [
       "<matplotlib.figure.Figure at 0xbc389e8>"
      ]
     },
     "metadata": {},
     "output_type": "display_data"
    },
    {
     "name": "stdout",
     "output_type": "stream",
     "text": [
      "Gradient\n"
     ]
    },
    {
     "data": {
      "image/png": "[encoded data removed]",
      "text/plain": [
       "<matplotlib.figure.Figure at 0xcb44588>"
      ]
     },
     "metadata": {},
     "output_type": "display_data"
    }
   ],
   "source": [
    "disk_mask =  getDiskElement(3)\n",
    "\n",
    "print \"\\n\\nDiskElement :\"\n",
    "print disk_mask\n",
    "\n",
    "print  \"Eroded\"\n",
    "eroded  = erosion(im,disk_mask)\n",
    "io.imshow(eroded)\n",
    "plt.show()\n",
    "print  \"Dilated\"\n",
    "dilate  = dilation(im,disk_mask)\n",
    "io.imshow(dilate)\n",
    "plt.show()\n",
    "\n",
    "print  \"Opened\"\n",
    "ope = morph_open(im,disk_mask) \n",
    "io.imshow(ope)\n",
    "plt.show()\n",
    "print \"Closed\"\n",
    "clos = morph_close(im,disk_mask) \n",
    "io.imshow(clos)\n",
    "plt.show()\n",
    "\n",
    "print \"Gradient\"\n",
    "grad = morph_gradient(im,disk_mask)\n",
    "io.imshow(grad)\n",
    "plt.show()\n"
   ]
  },
  {
   "cell_type": "markdown",
   "metadata": {
    "collapsed": true
   },
   "source": [
    "From the closed images we can notice that the hole shape became diamond for diamond masks and circular for the circular masks"
   ]
  },
  {
   "cell_type": "code",
   "execution_count": null,
   "metadata": {
    "collapsed": true
   },
   "outputs": [],
   "source": []
  }
 ],
 "metadata": {
  "kernelspec": {
   "display_name": "Python 2",
   "language": "python",
   "name": "python2"
  },
  "language_info": {
   "codemirror_mode": {
    "name": "ipython",
    "version": 2
   },
   "file_extension": ".py",
   "mimetype": "text/x-python",
   "name": "python",
   "nbconvert_exporter": "python",
   "pygments_lexer": "ipython2",
   "version": "2.7.13"
  }
 },
 "nbformat": 4,
 "nbformat_minor": 2
}
